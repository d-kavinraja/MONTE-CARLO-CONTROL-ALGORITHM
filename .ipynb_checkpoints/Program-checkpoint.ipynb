{
 "cells": [
  {
   "cell_type": "code",
   "execution_count": 2,
   "id": "bf1eaec5-fa51-4221-a630-0322b324769e",
   "metadata": {},
   "outputs": [],
   "source": [
    "def decay_schedule (init_value, min_value, decay_ratio, max_steps, log_start=-2, log_base=10): \n",
    "    decay_steps = int(max_steps *decay_ratio) \n",
    "    rem_steps = max_steps -decay_steps \n",
    "    values = np.logspace(log_start, 0 ,decay_steps,base=log_base,endpoint=True)[::-1]\n",
    "    values = (values -values.min())/(values.max() - values.min())\n",
    "    values = (init_value - min_value)* values +min_value\n",
    "    values = np.pad (values, (0, rem_steps), 'edge')\n",
    "    return values"
   ]
  },
  {
   "cell_type": "code",
   "execution_count": 7,
   "id": "f2294bcd-d2cb-4f5c-a6c4-4a89a5770a46",
   "metadata": {},
   "outputs": [],
   "source": [
    "def generate_trajectory(pi , env , max_steps=20):\n",
    "    done , trajectory = False,[]\n",
    "    while not done:\n",
    "        state = env.reset()\n",
    "        for t in count():\n",
    "            action= pi(state)\n",
    "            next_state, reward, done,_ = env.step (action)\n",
    "            experience = (state, action, reward, next_state, done)\n",
    "            trajectory.append(experience)\n",
    "            if done:\n",
    "                break\n",
    "            if t >= max_steps-1:\n",
    "                trajectory = []\n",
    "                break\n",
    "            state =next_state\n",
    "    return np.array (trajectory, np.object)"
   ]
  },
  {
   "cell_type": "code",
   "execution_count": null,
   "id": "d7f4f8cb-45c8-43b7-88b4-1d5886e8a58b",
   "metadata": {},
   "outputs": [],
   "source": []
  }
 ],
 "metadata": {
  "kernelspec": {
   "display_name": "Python 3 (ipykernel)",
   "language": "python",
   "name": "python3"
  },
  "language_info": {
   "codemirror_mode": {
    "name": "ipython",
    "version": 3
   },
   "file_extension": ".py",
   "mimetype": "text/x-python",
   "name": "python",
   "nbconvert_exporter": "python",
   "pygments_lexer": "ipython3",
   "version": "3.12.6"
  }
 },
 "nbformat": 4,
 "nbformat_minor": 5
}
