{
 "cells": [
  {
   "cell_type": "code",
   "execution_count": 13,
   "id": "bf1eaec5-fa51-4221-a630-0322b324769e",
   "metadata": {},
   "outputs": [],
   "source": [
    "import numpy as np\n",
    "from tqdm import tqdm\n",
    "def decay_schedule (init_value, min_value, decay_ratio, max_steps, log_start=-2, log_base=10): \n",
    "    decay_steps = int(max_steps *decay_ratio) \n",
    "    rem_steps = max_steps -decay_steps \n",
    "    values = np.logspace(log_start, 0 ,decay_steps,base=log_base,endpoint=True)[::-1]\n",
    "    values = (values -values.min())/(values.max() - values.min())\n",
    "    values = (init_value - min_value)* values +min_value\n",
    "    values = np.pad (values, (0, rem_steps), 'edge')\n",
    "    return values"
   ]
  },
  {
   "cell_type": "code",
   "execution_count": 14,
   "id": "f2294bcd-d2cb-4f5c-a6c4-4a89a5770a46",
   "metadata": {},
   "outputs": [],
   "source": [
    "def generate_trajectory(pi , env , max_steps=20):\n",
    "    done , trajectory = False,[]\n",
    "    while not done:\n",
    "        state = env.reset()\n",
    "        for t in count():\n",
    "            action= pi(state)\n",
    "            next_state, reward, done,_ = env.step (action)\n",
    "            experience = (state, action, reward, next_state, done)\n",
    "            trajectory.append(experience)\n",
    "            if done:\n",
    "                break\n",
    "            if t >= max_steps-1:\n",
    "                trajectory = []\n",
    "                break\n",
    "            state =next_state\n",
    "    return np.array (trajectory, np.object)"
   ]
  },
  {
   "cell_type": "code",
   "execution_count": 15,
   "id": "d7f4f8cb-45c8-43b7-88b4-1d5886e8a58b",
   "metadata": {},
   "outputs": [],
   "source": [
    "def mc_prediction(pi,\n",
    "                  env,gamma=1.0,init_alpha=0.5,min_alpha=0.01,\n",
    "                  alpha_decay_ratio = 0.3,n_episodes=500,\n",
    "                  max_steps=100,first_visit=True):\n",
    "    nS = env.observation_space.n\n",
    "    discounts = np.logspace(0, max_steps,num=max_steps,base=gamma,endpoint=False)\n",
    "    alphas = decay_schedule(init_alpha,min_alpha,alpha_decay_ratio,n_episodes)\n",
    "    V = np,zeros((n_episodes,nS))\n",
    "    for e in tqdm(range(n_episodes),leave=False):\n",
    "        trajectory = generative_trajectory(pi,env,max_steps)\n",
    "        visited = np,zeros(nS,dtype=np.bool)\n",
    "        for t,(state,_,reward,_,_) in enumerate(trajectory):\n",
    "              if visited[state] and first_visit:\n",
    "                    continue\n",
    "              visited[state][action] = 1\n",
    "              n_steps = len(trajectory[t:])\n",
    "              G = np.sum(discounts[:n_steps] * trajectory[t:,2])\n",
    "              V[state] = V[state] + alphas[e] * (G - V[state])\n",
    "        V_track[e] = V\n",
    "    return V.copy(),V_track    \n",
    "        "
   ]
  },
  {
   "cell_type": "code",
   "execution_count": 19,
   "id": "f79cdaa4-1f4d-4ee6-867d-c2099c51900c",
   "metadata": {},
   "outputs": [
    {
     "ename": "NameError",
     "evalue": "name 'envdesc' is not defined",
     "output_type": "error",
     "traceback": [
      "\u001b[0;31m---------------------------------------------------------------------------\u001b[0m",
      "\u001b[0;31mNameError\u001b[0m                                 Traceback (most recent call last)",
      "Cell \u001b[0;32mIn[19], line 6\u001b[0m\n\u001b[1;32m      4\u001b[0m \u001b[38;5;28;01mimport\u001b[39;00m \u001b[38;5;21;01mrandom\u001b[39;00m\n\u001b[1;32m      5\u001b[0m \u001b[38;5;28;01mimport\u001b[39;00m \u001b[38;5;21;01mwarnings\u001b[39;00m\n\u001b[0;32m----> 6\u001b[0m env \u001b[38;5;241m=\u001b[39m gym\u001b[38;5;241m.\u001b[39mmake(\u001b[38;5;124m'\u001b[39m\u001b[38;5;124mFrozenLake-v1\u001b[39m\u001b[38;5;124m'\u001b[39m,desc\u001b[38;5;241m=\u001b[39m\u001b[43menvdesc\u001b[49m)\n",
      "\u001b[0;31mNameError\u001b[0m: name 'envdesc' is not defined"
     ]
    }
   ],
   "source": [
    "import gym, gym_walk\n",
    "import numpy as np\n",
    "\n",
    "import random\n",
    "import warnings\n",
    "env = gym.make('FrozenLake-v1',desc=envdesc)"
   ]
  },
  {
   "cell_type": "code",
   "execution_count": null,
   "id": "8439d5b3-cb12-45ae-a248-ab9d97b04f47",
   "metadata": {},
   "outputs": [],
   "source": []
  }
 ],
 "metadata": {
  "kernelspec": {
   "display_name": "Python 3 (ipykernel)",
   "language": "python",
   "name": "python3"
  },
  "language_info": {
   "codemirror_mode": {
    "name": "ipython",
    "version": 3
   },
   "file_extension": ".py",
   "mimetype": "text/x-python",
   "name": "python",
   "nbconvert_exporter": "python",
   "pygments_lexer": "ipython3",
   "version": "3.12.6"
  }
 },
 "nbformat": 4,
 "nbformat_minor": 5
}
